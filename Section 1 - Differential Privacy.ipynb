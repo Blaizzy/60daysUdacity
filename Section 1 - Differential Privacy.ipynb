{
 "cells": [
  {
   "cell_type": "markdown",
   "metadata": {},
   "source": [
    "## Lesson: Toy Differential Privacy - Simple Database Queries"
   ]
  },
  {
   "cell_type": "markdown",
   "metadata": {},
   "source": [
    "In this section we're going to play around with Differential Privacy in the context of a database query. The database is going to be a VERY simple database with only one boolean column. Each row corresponds to a person. Each value corresponds to whether or not that person has a certain private attribute (such as whether they have a certain disease, or whether they are above/below a certain age). We are then going to learn how to know whether a database query over such a small database is differentially private or not - and more importantly - what techniques are at our disposal to ensure various levels of privacy\n",
    "\n",
    "\n",
    "### First We Create a Simple Database\n",
    "\n",
    "Step one is to create our database - we're going to do this by initializing a random list of 1s and 0s (which are the entries in our database). Note - the number of entries directly corresponds to the number of people in our database."
   ]
  },
  {
   "cell_type": "code",
   "execution_count": null,
   "metadata": {},
   "outputs": [
    {
     "data": {
      "text/plain": [
       "tensor([False, False, False,  ...,  True,  True,  True])"
      ]
     },
     "execution_count": 293,
     "metadata": {},
     "output_type": "execute_result"
    }
   ],
   "source": [
    "import torch\n",
    "\n",
    "# the number of entries in our database\n",
    "num_entries = 5000\n",
    "\n",
    "db = torch.rand(num_entries) > 0.5\n",
    "db"
   ]
  },
  {
   "cell_type": "markdown",
   "metadata": {},
   "source": [
    "## Project: Generate Parallel Databases\n",
    "\n",
    "Key to the definition of differenital privacy is the ability to ask the question \"When querying a database, if I removed someone from the database, would the output of the query be any different?\". Thus, in order to check this, we must construct what we term \"parallel databases\" which are simply databases with one entry removed. \n",
    "\n",
    "In this first project, I want you to create a list of every parallel database to the one currently contained in the \"db\" variable. Then, I want you to create a function which both:\n",
    "\n",
    "- creates the initial database (db)\n",
    "- creates all parallel databases"
   ]
  },
  {
   "cell_type": "code",
   "execution_count": 294,
   "metadata": {},
   "outputs": [],
   "source": [
    "# try project here!\n",
    "def get_parallel_db(db, remove_index):\n",
    "\n",
    "    return torch.cat((db[0:remove_index], \n",
    "                      db[remove_index+1:]))\n"
   ]
  },
  {
   "cell_type": "code",
   "execution_count": 295,
   "metadata": {
    "scrolled": true
   },
   "outputs": [
    {
     "data": {
      "text/plain": [
       "tensor([False, False, False,  ...,  True,  True,  True])"
      ]
     },
     "execution_count": 295,
     "metadata": {},
     "output_type": "execute_result"
    }
   ],
   "source": [
    "get_parallel_db(db, 52352)"
   ]
  },
  {
   "cell_type": "code",
   "execution_count": 4,
   "metadata": {},
   "outputs": [],
   "source": [
    "def get_parallel_dbs(db):\n",
    "\n",
    "    parallel_dbs = list()\n",
    "\n",
    "    for i in range(len(db)):\n",
    "        pdb = get_parallel_db(db, i)\n",
    "        parallel_dbs.append(pdb)\n",
    "    \n",
    "    return parallel_dbs"
   ]
  },
  {
   "cell_type": "code",
   "execution_count": 296,
   "metadata": {},
   "outputs": [],
   "source": [
    "pdbs = get_parallel_dbs(db)"
   ]
  },
  {
   "cell_type": "code",
   "execution_count": 297,
   "metadata": {},
   "outputs": [],
   "source": [
    "def create_db_and_parallels(num_entries):\n",
    "    \n",
    "    db = torch.rand(num_entries) > 0.5\n",
    "    pdbs = get_parallel_dbs(db)\n",
    "    \n",
    "    return db, pdbs"
   ]
  },
  {
   "cell_type": "markdown",
   "metadata": {},
   "source": [
    "# Lesson: Towards Evaluating The Differential Privacy of a Function\n",
    "\n",
    "Intuitively, we want to be able to query our database and evaluate whether or not the result of the query is leaking \"private\" information. As mentioned previously, this is about evaluating whether the output of a query changes when we remove someone from the database. Specifically, we want to evaluate the *maximum* amount the query changes when someone is removed (maximum over all possible people who could be removed). So, in order to evaluate how much privacy is leaked, we're going to iterate over each person in the database and measure the difference in the output of the query relative to when we query the entire database. \n",
    "\n",
    "Just for the sake of argument, let's make our first \"database query\" a simple sum. Aka, we're going to count the number of 1s in the database."
   ]
  },
  {
   "cell_type": "code",
   "execution_count": 298,
   "metadata": {},
   "outputs": [],
   "source": [
    "db, pdbs = create_db_and_parallels(5000)"
   ]
  },
  {
   "cell_type": "code",
   "execution_count": 299,
   "metadata": {},
   "outputs": [],
   "source": [
    "def query(db):\n",
    "    return db.sum()"
   ]
  },
  {
   "cell_type": "code",
   "execution_count": 300,
   "metadata": {},
   "outputs": [],
   "source": [
    "full_db_result = query(db)"
   ]
  },
  {
   "cell_type": "code",
   "execution_count": 301,
   "metadata": {},
   "outputs": [],
   "source": [
    "sensitivity = 0\n",
    "for pdb in pdbs:\n",
    "    pdb_result = query(pdb)\n",
    "    \n",
    "    db_distance = torch.abs(pdb_result - full_db_result)\n",
    "    \n",
    "    if(db_distance > sensitivity):\n",
    "        sensitivity = db_distance"
   ]
  },
  {
   "cell_type": "code",
   "execution_count": 302,
   "metadata": {},
   "outputs": [
    {
     "data": {
      "text/plain": [
       "tensor(1)"
      ]
     },
     "execution_count": 302,
     "metadata": {},
     "output_type": "execute_result"
    }
   ],
   "source": [
    "sensitivity"
   ]
  },
  {
   "cell_type": "markdown",
   "metadata": {},
   "source": [
    "# Project - Evaluating the Privacy of a Function\n",
    "\n",
    "In the last section, we measured the difference between each parallel db's query result and the query result for the entire database and then calculated the max value (which was 1). This value is called \"sensitivity\", and it corresponds to the function we chose for the query. Namely, the \"sum\" query will always have a sensitivity of exactly 1. However, we can also calculate sensitivity for other functions as well.\n",
    "\n",
    "Let's try to calculate sensitivity for the \"mean\" function."
   ]
  },
  {
   "cell_type": "code",
   "execution_count": 303,
   "metadata": {},
   "outputs": [],
   "source": [
    "# try this project here!\n",
    "def sensitivity(query, n_entries=1000):\n",
    "\n",
    "    db, pdbs = create_db_and_parallels(n_entries)\n",
    "    \n",
    "    full_db_result = query(db)\n",
    "    \n",
    "    max_distance = 0\n",
    "    for pdb in pdbs:\n",
    "        pdb_result = query(pdb)\n",
    "\n",
    "        db_distance = torch.abs(pdb_result - full_db_result)\n",
    "\n",
    "        if(db_distance > max_distance):\n",
    "            max_distance = db_distance\n",
    "            \n",
    "    return max_distance"
   ]
  },
  {
   "cell_type": "code",
   "execution_count": 304,
   "metadata": {},
   "outputs": [],
   "source": [
    "def query_mean(db):\n",
    "    return db.float().mean()"
   ]
  },
  {
   "cell_type": "code",
   "execution_count": 305,
   "metadata": {},
   "outputs": [
    {
     "data": {
      "text/plain": [
       "tensor(1)"
      ]
     },
     "execution_count": 305,
     "metadata": {},
     "output_type": "execute_result"
    }
   ],
   "source": [
    "sensitivity(query)"
   ]
  },
  {
   "cell_type": "code",
   "execution_count": 306,
   "metadata": {},
   "outputs": [],
   "source": [
    "db, pdbs = create_db_and_parallels(20)"
   ]
  },
  {
   "cell_type": "code",
   "execution_count": 307,
   "metadata": {},
   "outputs": [
    {
     "data": {
      "text/plain": [
       "tensor([False,  True, False,  True, False,  True, False,  True, False, False,\n",
       "        False,  True,  True, False, False, False, False, False, False,  True])"
      ]
     },
     "execution_count": 307,
     "metadata": {},
     "output_type": "execute_result"
    }
   ],
   "source": [
    "db"
   ]
  },
  {
   "cell_type": "code",
   "execution_count": null,
   "metadata": {},
   "outputs": [],
   "source": []
  },
  {
   "cell_type": "code",
   "execution_count": null,
   "metadata": {},
   "outputs": [],
   "source": []
  },
  {
   "cell_type": "code",
   "execution_count": null,
   "metadata": {},
   "outputs": [],
   "source": []
  },
  {
   "cell_type": "markdown",
   "metadata": {},
   "source": [
    "Wow! That sensitivity is WAY lower. Note the intuition here. \"Sensitivity\" is measuring how sensitive the output of the query is to a person being removed from the database. For a simple sum, this is always 1, but for the mean, removing a person is going to change the result of the query by rougly 1 divided by the size of the database (which is much smaller). Thus, \"mean\" is a VASTLY less \"sensitive\" function (query) than SUM."
   ]
  },
  {
   "cell_type": "markdown",
   "metadata": {},
   "source": [
    "# Project: Calculate L1 Sensitivity For Threshold\n",
    "\n",
    "In this first project, I want you to calculate the sensitivty for the \"threshold\" function. \n",
    "\n",
    "- First compute the sum over the database (i.e. sum(db)) and return whether that sum is greater than a certain threshold.\n",
    "- Then, I want you to create databases of size 10 and threshold of 5 and calculate the sensitivity of the function. \n",
    "- Finally, re-initialize the database 10 times and calculate the sensitivity each time."
   ]
  },
  {
   "cell_type": "code",
   "execution_count": 308,
   "metadata": {},
   "outputs": [],
   "source": [
    "# try this project here!\n",
    "\n",
    "def query(db, threshold = 5):\n",
    "    return (db.sum() > threshold).float()"
   ]
  },
  {
   "cell_type": "code",
   "execution_count": 309,
   "metadata": {},
   "outputs": [
    {
     "data": {
      "text/plain": [
       "tensor(3)"
      ]
     },
     "execution_count": 309,
     "metadata": {},
     "output_type": "execute_result"
    }
   ],
   "source": [
    "db, pdbs = create_db_and_parallels(10)\n",
    "db.sum()"
   ]
  },
  {
   "cell_type": "code",
   "execution_count": 322,
   "metadata": {},
   "outputs": [
    {
     "data": {
      "text/plain": [
       "[tensor([False, False, False, False, False, False, False,  True,  True]),\n",
       " tensor([ True, False, False, False, False, False, False,  True,  True]),\n",
       " tensor([ True, False, False, False, False, False, False,  True,  True]),\n",
       " tensor([ True, False, False, False, False, False, False,  True,  True]),\n",
       " tensor([ True, False, False, False, False, False, False,  True,  True]),\n",
       " tensor([ True, False, False, False, False, False, False,  True,  True]),\n",
       " tensor([ True, False, False, False, False, False, False,  True,  True]),\n",
       " tensor([ True, False, False, False, False, False, False,  True,  True]),\n",
       " tensor([ True, False, False, False, False, False, False, False,  True]),\n",
       " tensor([ True, False, False, False, False, False, False, False,  True])]"
      ]
     },
     "execution_count": 322,
     "metadata": {},
     "output_type": "execute_result"
    }
   ],
   "source": [
    "pdbs"
   ]
  },
  {
   "cell_type": "code",
   "execution_count": 310,
   "metadata": {},
   "outputs": [
    {
     "data": {
      "text/plain": [
       "tensor(0.)"
      ]
     },
     "execution_count": 310,
     "metadata": {},
     "output_type": "execute_result"
    }
   ],
   "source": [
    "query(db,5)"
   ]
  },
  {
   "cell_type": "code",
   "execution_count": 323,
   "metadata": {},
   "outputs": [
    {
     "name": "stdout",
     "output_type": "stream",
     "text": [
      "0\n",
      "0\n",
      "0\n",
      "0\n",
      "tensor(1.)\n",
      "tensor(1.)\n",
      "tensor(1.)\n",
      "tensor(1.)\n",
      "0\n",
      "0\n"
     ]
    }
   ],
   "source": [
    "for i in range(10):\n",
    "    sens = sensitivity(query, n_entries = 10)\n",
    "    print(sens)"
   ]
  },
  {
   "cell_type": "markdown",
   "metadata": {},
   "source": [
    "# Lesson: A Basic Differencing Attack\n",
    "\n",
    "Sadly none of the functions we've looked at so far are differentially private (despite them having varying levels of sensitivity). The most basic type of attack can be done as follows.\n",
    "\n",
    "Let's say we wanted to figure out a specific person's value in the database. All we would have to do is query for the sum of the entire database and then the sum of the entire database without that person!\n",
    "\n",
    "# Project: Perform a Differencing Attack on Row 10\n",
    "\n",
    "In this project, I want you to construct a database and then demonstrate how you can use two different sum queries to explose the value of the person represented by row 10 in the database (note, you'll need to use a database with at least 10 rows)"
   ]
  },
  {
   "cell_type": "code",
   "execution_count": 312,
   "metadata": {},
   "outputs": [],
   "source": [
    "# try this project here!\n",
    "db, _ = create_db_and_parallels(100)\n"
   ]
  },
  {
   "cell_type": "code",
   "execution_count": 313,
   "metadata": {},
   "outputs": [],
   "source": [
    "pdb = get_parallel_db(db, remove_index=10)"
   ]
  },
  {
   "cell_type": "code",
   "execution_count": 314,
   "metadata": {},
   "outputs": [
    {
     "data": {
      "text/plain": [
       "tensor(False)"
      ]
     },
     "execution_count": 314,
     "metadata": {},
     "output_type": "execute_result"
    }
   ],
   "source": [
    "db[10]"
   ]
  },
  {
   "cell_type": "code",
   "execution_count": 315,
   "metadata": {},
   "outputs": [
    {
     "data": {
      "text/plain": [
       "tensor(44)"
      ]
     },
     "execution_count": 315,
     "metadata": {},
     "output_type": "execute_result"
    }
   ],
   "source": [
    "db.sum()"
   ]
  },
  {
   "cell_type": "code",
   "execution_count": 316,
   "metadata": {},
   "outputs": [
    {
     "data": {
      "text/plain": [
       "tensor(0)"
      ]
     },
     "execution_count": 316,
     "metadata": {},
     "output_type": "execute_result"
    }
   ],
   "source": [
    "# Differencing attack using addition\n",
    "db.sum() - pdb.sum() "
   ]
  },
  {
   "cell_type": "code",
   "execution_count": 317,
   "metadata": {},
   "outputs": [
    {
     "data": {
      "text/plain": [
       "tensor(-0.0044)"
      ]
     },
     "execution_count": 317,
     "metadata": {},
     "output_type": "execute_result"
    }
   ],
   "source": [
    "# Differencing attack using mean\n",
    "query_mean(db) - query_mean(pdb)"
   ]
  },
  {
   "cell_type": "code",
   "execution_count": 320,
   "metadata": {},
   "outputs": [
    {
     "data": {
      "text/plain": [
       "tensor(False)"
      ]
     },
     "execution_count": 320,
     "metadata": {},
     "output_type": "execute_result"
    }
   ],
   "source": [
    "# Differencing attack using threshold\n",
    "(db.sum() > 43) ^ (pdb.sum() > 43)"
   ]
  },
  {
   "cell_type": "code",
   "execution_count": null,
   "metadata": {},
   "outputs": [],
   "source": []
  },
  {
   "cell_type": "code",
   "execution_count": null,
   "metadata": {},
   "outputs": [],
   "source": []
  },
  {
   "cell_type": "code",
   "execution_count": null,
   "metadata": {},
   "outputs": [],
   "source": []
  },
  {
   "cell_type": "markdown",
   "metadata": {},
   "source": [
    "# Project: Local Differential Privacy\n",
    "\n",
    "As you can see, the basic sum query is not differentially private at all! In truth, differential privacy always requires a form of randomness added to the query. Let me show you what I mean.\n",
    "\n",
    "### Randomized Response (Local Differential Privacy)\n",
    "\n",
    "Let's say I have a group of people I wish to survey about a very taboo behavior which I think they will lie about (say, I want to know if they have ever committed a certain kind of crime). I'm not a policeman, I'm just trying to collect statistics to understand the higher level trend in society. So, how do we do this? One technique is to add randomness to each person's response by giving each person the following instructions (assuming I'm asking a simple yes/no question):\n",
    "\n",
    "- Flip a coin 2 times.\n",
    "- If the first coin flip is heads, answer honestly\n",
    "- If the first coin flip is tails, answer according to the second coin flip (heads for yes, tails for no)!\n",
    "\n",
    "Thus, each person is now protected with \"plausible deniability\". If they answer \"Yes\" to the question \"have you committed X crime?\", then it might becasue they actually did, or it might be becasue they are answering according to a random coin flip. Each person has a high degree of protection. Furthermore, we can recover the underlying statistics with some accuracy, as the \"true statistics\" are simply averaged with a 50% probability. Thus, if we collect a bunch of samples and it turns out that 60% of people answer yes, then we know that the TRUE distribution is actually centered around 70%, because 70% averaged wtih 50% (a coin flip) is 60% which is the result we obtained. \n",
    "\n",
    "However, it should be noted that, especially when we only have a few samples, this comes at the cost of accuracy. This tradeoff exists across all of Differential Privacy. The greater the privacy protection (plausible deniability) the less accurate the results. \n",
    "\n",
    "Let's implement this local DP for our database before!"
   ]
  },
  {
   "cell_type": "code",
   "execution_count": null,
   "metadata": {},
   "outputs": [],
   "source": [
    "# try this project here!\n",
    "db, pdbs = create_db_and_parallels(100)\n",
    "db"
   ]
  },
  {
   "cell_type": "code",
   "execution_count": null,
   "metadata": {},
   "outputs": [],
   "source": [
    "def query(db):\n",
    "    true_result = torch.mean(db.float())\n",
    "    first_coin = (torch.rand(len(db)) > 0.5).float()\n",
    "    second_coin = (torch.rand(len(db)) > 0.5).float()\n",
    "    augmented_db = db.float() * first_coin + (1 - first_coin) * second_coin # honestly + (random choice)\n",
    "    augmented_result = torch.mean(augmented_db.float()) * 2 - 0.5\n",
    "    return augmented_result, true_result\n",
    "    "
   ]
  },
  {
   "cell_type": "code",
   "execution_count": null,
   "metadata": {},
   "outputs": [],
   "source": [
    "db, pdbs = create_db_and_parallels(10)\n",
    "private_res, true_res = query(db)\n",
    "print(\"With noise: \" + str(private_res))\n",
    "print(\"Without noise: \" + str(true_res))"
   ]
  },
  {
   "cell_type": "code",
   "execution_count": null,
   "metadata": {},
   "outputs": [],
   "source": [
    "db, pdbs = create_db_and_parallels(100)\n",
    "private_res, true_res = query(db)\n",
    "print(\"With noise: \" + str(private_res))\n",
    "print(\"Without noise: \" + str(true_res))"
   ]
  },
  {
   "cell_type": "code",
   "execution_count": null,
   "metadata": {},
   "outputs": [],
   "source": [
    "db, pdbs = create_db_and_parallels(1000)\n",
    "private_res, true_res = query(db)\n",
    "print(\"With noise: \" + str(private_res))\n",
    "print(\"Without noise: \" + str(true_res))"
   ]
  },
  {
   "cell_type": "code",
   "execution_count": null,
   "metadata": {},
   "outputs": [],
   "source": [
    "db, pdbs = create_db_and_parallels(10000)\n",
    "private_res, true_res = query(db)\n",
    "print(\"With noise: \" + str(private_res))\n",
    "print(\"Without noise: \" + str(true_res))"
   ]
  },
  {
   "cell_type": "code",
   "execution_count": null,
   "metadata": {},
   "outputs": [],
   "source": []
  },
  {
   "cell_type": "code",
   "execution_count": null,
   "metadata": {},
   "outputs": [],
   "source": []
  },
  {
   "cell_type": "code",
   "execution_count": null,
   "metadata": {},
   "outputs": [],
   "source": []
  },
  {
   "cell_type": "code",
   "execution_count": null,
   "metadata": {},
   "outputs": [],
   "source": []
  },
  {
   "cell_type": "markdown",
   "metadata": {},
   "source": [
    "# Project: Varying Amounts of Noise\n",
    "\n",
    "In this project, I want you to augment the randomized response query (the one we just wrote) to allow for varying amounts of randomness to be added. Specifically, I want you to bias the coin flip to be higher or lower and then run the same experiment. \n",
    "\n",
    "Note - this one is a bit tricker than you might expect. You need to both adjust the likelihood of the first coin flip AND the de-skewing at the end (where we create the \"augmented_result\" variable)."
   ]
  },
  {
   "cell_type": "code",
   "execution_count": null,
   "metadata": {},
   "outputs": [],
   "source": [
    "# try this project here!\n",
    "def query(db, noise = 0.2):\n",
    "    true_result = torch.mean(db.float())\n",
    "    first_coin = (torch.rand(len(db)) > noise).float()\n",
    "    second_coin = (torch.rand(len(db)) > 0.5).float()\n",
    "    augmented_db = db.float() * first_coin + (1 - first_coin) * second_coin # honestly + (random choice)\n",
    "    sk_result = torch.mean(augmented_db.float())\n",
    "    augmented_result = (sk_result/ noise - 0.5) * noise / (1-noise)\n",
    "    return augmented_result, true_result"
   ]
  },
  {
   "cell_type": "code",
   "execution_count": null,
   "metadata": {},
   "outputs": [],
   "source": [
    "db, pdbs = create_db_and_parallels(100)\n",
    "priv, true = query(db, 0.1)\n",
    "print(\"With noise: \" + str(priv))\n",
    "print(\"Without noise: \" + str(true))"
   ]
  },
  {
   "cell_type": "code",
   "execution_count": null,
   "metadata": {},
   "outputs": [],
   "source": [
    "db, pdbs = create_db_and_parallels(100)\n",
    "priv, true = query(db, 0.2)\n",
    "print(\"With noise: \" + str(priv))\n",
    "print(\"Without noise: \" + str(true))"
   ]
  },
  {
   "cell_type": "code",
   "execution_count": null,
   "metadata": {},
   "outputs": [],
   "source": [
    "db, pdbs = create_db_and_parallels(100)\n",
    "priv, true = query(db, 0.4)\n",
    "print(\"With noise: \" + str(priv))\n",
    "print(\"Without noise: \" + str(true))"
   ]
  },
  {
   "cell_type": "code",
   "execution_count": null,
   "metadata": {},
   "outputs": [],
   "source": [
    "db, pdbs = create_db_and_parallels(100)\n",
    "priv, true = query(db, 0.8)\n",
    "print(\"With noise: \" + str(priv))\n",
    "print(\"Without noise: \" + str(true))"
   ]
  },
  {
   "cell_type": "code",
   "execution_count": null,
   "metadata": {},
   "outputs": [],
   "source": [
    "db, pdbs = create_db_and_parallels(10000)\n",
    "priv, true = query(db, 0.8)\n",
    "print(\"With noise: \" + str(priv))\n",
    "print(\"Without noise: \" + str(true))"
   ]
  },
  {
   "cell_type": "code",
   "execution_count": null,
   "metadata": {},
   "outputs": [],
   "source": []
  },
  {
   "cell_type": "code",
   "execution_count": null,
   "metadata": {},
   "outputs": [],
   "source": []
  },
  {
   "cell_type": "code",
   "execution_count": null,
   "metadata": {},
   "outputs": [],
   "source": []
  },
  {
   "cell_type": "markdown",
   "metadata": {},
   "source": [
    "# Lesson: The Formal Definition of Differential Privacy\n",
    "\n",
    "The previous method of adding noise was called \"Local Differentail Privacy\" because we added noise to each datapoint individually. This is necessary for some situations wherein the data is SO sensitive that individuals do not trust noise to be added later. However, it comes at a very high cost in terms of accuracy. \n",
    "\n",
    "However, alternatively we can add noise AFTER data has been aggregated by a function. This kind of noise can allow for similar levels of protection with a lower affect on accuracy. However, participants must be able to trust that no-one looked at their datapoints _before_ the aggregation took place. In some situations this works out well, in others (such as an individual hand-surveying a group of people), this is less realistic.\n",
    "\n",
    "Nevertheless, global differential privacy is incredibly important because it allows us to perform differential privacy on smaller groups of individuals with lower amounts of noise. Let's revisit our sum functions."
   ]
  },
  {
   "cell_type": "code",
   "execution_count": null,
   "metadata": {},
   "outputs": [],
   "source": [
    "db, pdbs = create_db_and_parallels(100)\n",
    "\n",
    "def query(db):\n",
    "    return torch.sum(db.float())\n",
    "\n",
    "def M(db):\n",
    "    query(db) + noise\n",
    "\n",
    "query(db)"
   ]
  },
  {
   "cell_type": "markdown",
   "metadata": {},
   "source": [
    "So the idea here is that we want to add noise to the output of our function. We actually have two different kinds of noise we can add - Laplacian Noise or Gaussian Noise. However, before we do so at this point we need to dive into the formal definition of Differential Privacy.\n",
    "\n",
    "![alt text](dp_formula.png \"Title\")"
   ]
  },
  {
   "cell_type": "markdown",
   "metadata": {},
   "source": [
    "_Image From: \"The Algorithmic Foundations of Differential Privacy\" - Cynthia Dwork and Aaron Roth - https://www.cis.upenn.edu/~aaroth/Papers/privacybook.pdf_"
   ]
  },
  {
   "cell_type": "markdown",
   "metadata": {},
   "source": [
    "This definition does not _create_ differential privacy, instead it is a measure of how much privacy is afforded by a query M. Specifically, it's a comparison between running the query M on a database (x) and a parallel database (y). As you remember, parallel databases are defined to be the same as a full database (x) with one entry/person removed.\n",
    "\n",
    "Thus, this definition says that FOR ALL parallel databases, the maximum distance between a query on database (x) and the same query on database (y) will be e^epsilon, but that occasionally this constraint won't hold with probability delta. Thus, this theorem is called \"epsilon delta\" differential privacy.\n",
    "\n",
    "# Epsilon\n",
    "\n",
    "Let's unpack the intuition of this for a moment. \n",
    "\n",
    "Epsilon Zero: If a query satisfied this inequality where epsilon was set to 0, then that would mean that the query for all parallel databases outputed the exact same value as the full database. As you may remember, when we calculated the \"threshold\" function, often the Sensitivity was 0. In that case, the epsilon also happened to be zero.\n",
    "\n",
    "Epsilon One: If a query satisfied this inequality with epsilon 1, then the maximum distance between all queries would be 1 - or more precisely - the maximum distance between the two random distributions M(x) and M(y) is 1 (because all these queries have some amount of randomness in them, just like we observed in the last section).\n",
    "\n",
    "# Delta\n",
    "\n",
    "Delta is basically the probability that epsilon breaks. Namely, sometimes the epsilon is different for some queries than it is for others. For example, you may remember when we were calculating the sensitivity of threshold, most of the time sensitivity was 0 but sometimes it was 1. Thus, we could calculate this as \"epsilon zero but non-zero delta\" which would say that epsilon is perfect except for some probability of the time when it's arbitrarily higher. Note that this expression doesn't represent the full tradeoff between epsilon and delta."
   ]
  },
  {
   "cell_type": "markdown",
   "metadata": {},
   "source": [
    "# Lesson: How To Add Noise for Global Differential Privacy\n",
    "\n",
    "In this lesson, we're going to learn about how to take a query and add varying amounts of noise so that it satisfies a certain degree of differential privacy. In particular, we're going to leave behind the Local Differential privacy previously discussed and instead opt to focus on Global differential privacy. \n",
    "\n",
    "So, to sum up, this lesson is about adding noise to the output of our query so that it satisfies a certain epsilon-delta differential privacy threshold.\n",
    "\n",
    "There are two kinds of noise we can add - Gaussian Noise or Laplacian Noise. Generally speaking Laplacian is better, but both are still valid. Now to the hard question...\n",
    "\n",
    "### How much noise should we add?\n",
    "\n",
    "The amount of noise necessary to add to the output of a query is a function of four things:\n",
    "\n",
    "- the type of noise (Gaussian/Laplacian)\n",
    "- the sensitivity of the query/function\n",
    "- the desired epsilon (ε)\n",
    "- the desired delta (δ)\n",
    "\n",
    "Thus, for each type of noise we're adding, we have different way of calculating how much to add as a function of sensitivity, epsilon, and delta. We're going to focus on Laplacian noise. Laplacian noise is increased/decreased according to a \"scale\" parameter b. We choose \"b\" based on the following formula.\n",
    "\n",
    "b = sensitivity(query) / epsilon\n",
    "\n",
    "In other words, if we set b to be this value, then we know that we will have a privacy leakage of <= epsilon. Furthermore, the nice thing about Laplace is that it guarantees this with delta == 0. There are some tunings where we can have very low epsilon where delta is non-zero, but we'll ignore them for now.\n",
    "\n",
    "### Querying Repeatedly\n",
    "\n",
    "- if we query the database multiple times - we can simply add the epsilons (Even if we change the amount of noise and their epsilons are not the same)."
   ]
  },
  {
   "cell_type": "code",
   "execution_count": null,
   "metadata": {},
   "outputs": [],
   "source": []
  },
  {
   "cell_type": "markdown",
   "metadata": {},
   "source": [
    "# Project: Create a Differentially Private Query\n",
    "\n",
    "In this project, I want you to take what you learned in the previous lesson and create a query function which sums over the database and adds just the right amount of noise such that it satisfies an epsilon constraint. Write a query for both \"sum\" and for \"mean\". Ensure that you use the correct sensitivity measures for both."
   ]
  },
  {
   "cell_type": "code",
   "execution_count": null,
   "metadata": {},
   "outputs": [],
   "source": [
    "# try this project here!\n",
    "epsilon = 0.5"
   ]
  },
  {
   "cell_type": "code",
   "execution_count": null,
   "metadata": {},
   "outputs": [],
   "source": [
    "import numpy as np"
   ]
  },
  {
   "cell_type": "code",
   "execution_count": null,
   "metadata": {},
   "outputs": [],
   "source": [
    "db, pdbs = create_db_and_parallels(100)"
   ]
  },
  {
   "cell_type": "code",
   "execution_count": null,
   "metadata": {},
   "outputs": [],
   "source": [
    "def sum_query(db):\n",
    "    return db.sum()"
   ]
  },
  {
   "cell_type": "code",
   "execution_count": null,
   "metadata": {},
   "outputs": [],
   "source": [
    "def laplacian_mechanism(db, query, sensitivity):\n",
    "    \n",
    "    beta = sensitivity / epsilon\n",
    "    noise = torch.tensor(np.random.laplace(0, beta, 1))\n",
    "    \n",
    "    return query(db) + noise"
   ]
  },
  {
   "cell_type": "code",
   "execution_count": null,
   "metadata": {},
   "outputs": [],
   "source": [
    "def mean_query(db):\n",
    "    return torch.mean(db.float())"
   ]
  },
  {
   "cell_type": "code",
   "execution_count": null,
   "metadata": {},
   "outputs": [],
   "source": [
    "mean_query(db)"
   ]
  },
  {
   "cell_type": "code",
   "execution_count": null,
   "metadata": {},
   "outputs": [],
   "source": [
    "sum_query(db)"
   ]
  },
  {
   "cell_type": "code",
   "execution_count": null,
   "metadata": {},
   "outputs": [],
   "source": [
    "laplacian_mechanism(db, sum_query, 1)"
   ]
  },
  {
   "cell_type": "code",
   "execution_count": null,
   "metadata": {},
   "outputs": [],
   "source": [
    "laplacian_mechanism(db, mean_query, 1/100) \n",
    "# 1/100 BECAUSE ITS THE HOW MUCH THE QUERY CAN CHANGE"
   ]
  },
  {
   "cell_type": "code",
   "execution_count": null,
   "metadata": {},
   "outputs": [],
   "source": []
  },
  {
   "cell_type": "code",
   "execution_count": null,
   "metadata": {},
   "outputs": [],
   "source": []
  },
  {
   "cell_type": "markdown",
   "metadata": {},
   "source": [
    "# Lesson: Differential Privacy for Deep Learning\n",
    "\n",
    "So in the last lessons you may have been wondering - what does all of this have to do with Deep Learning? Well, these same techniques we were just studying form the core primitives for how Differential Privacy provides guarantees in the context of Deep Learning. \n",
    "\n",
    "Previously, we defined perfect privacy as \"a query to a database returns the same value even if we remove any person from the database\", and used this intuition in the description of epsilon/delta. In the context of deep learning we have a similar standard.\n",
    "\n",
    "Training a model on a dataset should return the same model even if we remove any person from the dataset.\n",
    "\n",
    "Thus, we've replaced \"querying a database\" with \"training a model on a dataset\". In essence, the training process is a kind of query. However, one should note that this adds two points of complexity which database queries did not have:\n",
    "\n",
    "    1. do we always know where \"people\" are referenced in the dataset?\n",
    "    2. neural models rarely never train to the same output model, even on identical data\n",
    "\n",
    "The answer to (1) is to treat each training example as a single, separate person. Strictly speaking, this is often overly zealous as some training examples have no relevance to people and others may have multiple/partial (consider an image with multiple people contained within it). Thus, localizing exactly where \"people\" are referenced, and thus how much your model would change if people were removed, is challenging.\n",
    "\n",
    "The answer to (2) is also an open problem - but several interesitng proposals have been made. We're going to focus on one of the most popular proposals, PATE.\n",
    "\n",
    "## An Example Scenario: A Health Neural Network\n",
    "\n",
    "First we're going to consider a scenario - you work for a hospital and you have a large collection of images about your patients. However, you don't know what's in them. You would like to use these images to develop a neural network which can automatically classify them, however since your images aren't labeled, they aren't sufficient to train a classifier. \n",
    "\n",
    "However, being a cunning strategist, you realize that you can reach out to 10 partner hospitals which DO have annotated data. It is your hope to train your new classifier on their datasets so that you can automatically label your own. While these hospitals are interested in helping, they have privacy concerns regarding information about their patients. Thus, you will use the following technique to train a classifier which protects the privacy of patients in the other hospitals.\n",
    "\n",
    "- 1) You'll ask each of the 10 hospitals to train a model on their own datasets (All of which have the same kinds of labels)\n",
    "- 2) You'll then use each of the 10 partner models to predict on your local dataset, generating 10 labels for each of your datapoints\n",
    "- 3) Then, for each local data point (now with 10 labels), you will perform a DP query to generate the final true label. This query is a \"max\" function, where \"max\" is the most frequent label across the 10 labels. We will need to add laplacian noise to make this Differentially Private to a certain epsilon/delta constraint.\n",
    "- 4) Finally, we will retrain a new model on our local dataset which now has labels. This will be our final \"DP\" model.\n",
    "\n",
    "So, let's walk through these steps. I will assume you're already familiar with how to train/predict a deep neural network, so we'll skip steps 1 and 2 and work with example data. We'll focus instead on step 3, namely how to perform the DP query for each example using toy data.\n",
    "\n",
    "So, let's say we have 10,000 training examples, and we've got 10 labels for each example (from our 10 \"teacher models\" which were trained directly on private data). Each label is chosen from a set of 10 possible labels (categories) for each image."
   ]
  },
  {
   "cell_type": "code",
   "execution_count": 1,
   "metadata": {},
   "outputs": [],
   "source": [
    "import numpy as np"
   ]
  },
  {
   "cell_type": "code",
   "execution_count": 2,
   "metadata": {},
   "outputs": [],
   "source": [
    "num_teachers = 10 # we're working with 10 partner hospitals\n",
    "num_examples = 10000 # the size of OUR dataset\n",
    "num_labels = 10 # number of lablels for our classifier"
   ]
  },
  {
   "cell_type": "code",
   "execution_count": 3,
   "metadata": {},
   "outputs": [],
   "source": [
    "preds = (np.random.rand(num_teachers, num_examples) * num_labels).astype(int).transpose(1,0) # fake predictions"
   ]
  },
  {
   "cell_type": "code",
   "execution_count": 4,
   "metadata": {},
   "outputs": [],
   "source": [
    "new_labels = list()\n",
    "for an_image in preds:\n",
    "\n",
    "    label_counts = np.bincount(an_image, minlength=num_labels)\n",
    "\n",
    "    epsilon = 0.1\n",
    "    beta = 1 / epsilon\n",
    "\n",
    "    for i in range(len(label_counts)):\n",
    "        label_counts[i] += np.random.laplace(0, beta, 1)\n",
    "\n",
    "    new_label = np.argmax(label_counts)\n",
    "    \n",
    "    new_labels.append(new_label)"
   ]
  },
  {
   "cell_type": "code",
   "execution_count": 5,
   "metadata": {},
   "outputs": [
    {
     "data": {
      "text/plain": [
       "[4,\n",
       " 4,\n",
       " 5,\n",
       " 1,\n",
       " 9,\n",
       " 4,\n",
       " 9,\n",
       " 4,\n",
       " 1,\n",
       " 5,\n",
       " 7,\n",
       " 2,\n",
       " 5,\n",
       " 1,\n",
       " 1,\n",
       " 2,\n",
       " 0,\n",
       " 2,\n",
       " 1,\n",
       " 8,\n",
       " 2,\n",
       " 4,\n",
       " 5,\n",
       " 5,\n",
       " 9,\n",
       " 1,\n",
       " 6,\n",
       " 9,\n",
       " 3,\n",
       " 0,\n",
       " 0,\n",
       " 4,\n",
       " 2,\n",
       " 2,\n",
       " 3,\n",
       " 2,\n",
       " 9,\n",
       " 0,\n",
       " 0,\n",
       " 0,\n",
       " 9,\n",
       " 6,\n",
       " 0,\n",
       " 7,\n",
       " 5,\n",
       " 1,\n",
       " 8,\n",
       " 7,\n",
       " 3,\n",
       " 0,\n",
       " 5,\n",
       " 6,\n",
       " 7,\n",
       " 2,\n",
       " 7,\n",
       " 0,\n",
       " 3,\n",
       " 0,\n",
       " 0,\n",
       " 7,\n",
       " 9,\n",
       " 2,\n",
       " 3,\n",
       " 4,\n",
       " 2,\n",
       " 4,\n",
       " 5,\n",
       " 3,\n",
       " 9,\n",
       " 3,\n",
       " 9,\n",
       " 8,\n",
       " 4,\n",
       " 0,\n",
       " 8,\n",
       " 7,\n",
       " 8,\n",
       " 3,\n",
       " 4,\n",
       " 2,\n",
       " 0,\n",
       " 6,\n",
       " 3,\n",
       " 3,\n",
       " 4,\n",
       " 2,\n",
       " 2,\n",
       " 5,\n",
       " 7,\n",
       " 8,\n",
       " 5,\n",
       " 3,\n",
       " 4,\n",
       " 5,\n",
       " 0,\n",
       " 2,\n",
       " 7,\n",
       " 6,\n",
       " 4,\n",
       " 7,\n",
       " 5,\n",
       " 6,\n",
       " 8,\n",
       " 7,\n",
       " 1,\n",
       " 6,\n",
       " 3,\n",
       " 5,\n",
       " 0,\n",
       " 0,\n",
       " 8,\n",
       " 8,\n",
       " 6,\n",
       " 1,\n",
       " 2,\n",
       " 7,\n",
       " 3,\n",
       " 5,\n",
       " 1,\n",
       " 6,\n",
       " 7,\n",
       " 1,\n",
       " 9,\n",
       " 9,\n",
       " 3,\n",
       " 7,\n",
       " 6,\n",
       " 7,\n",
       " 6,\n",
       " 7,\n",
       " 9,\n",
       " 2,\n",
       " 1,\n",
       " 7,\n",
       " 2,\n",
       " 3,\n",
       " 6,\n",
       " 5,\n",
       " 2,\n",
       " 9,\n",
       " 6,\n",
       " 5,\n",
       " 1,\n",
       " 5,\n",
       " 2,\n",
       " 6,\n",
       " 4,\n",
       " 7,\n",
       " 2,\n",
       " 5,\n",
       " 5,\n",
       " 0,\n",
       " 3,\n",
       " 8,\n",
       " 8,\n",
       " 3,\n",
       " 0,\n",
       " 0,\n",
       " 9,\n",
       " 7,\n",
       " 3,\n",
       " 0,\n",
       " 3,\n",
       " 7,\n",
       " 0,\n",
       " 9,\n",
       " 6,\n",
       " 5,\n",
       " 4,\n",
       " 2,\n",
       " 0,\n",
       " 5,\n",
       " 4,\n",
       " 7,\n",
       " 1,\n",
       " 6,\n",
       " 4,\n",
       " 8,\n",
       " 4,\n",
       " 4,\n",
       " 3,\n",
       " 9,\n",
       " 8,\n",
       " 5,\n",
       " 3,\n",
       " 5,\n",
       " 1,\n",
       " 1,\n",
       " 0,\n",
       " 2,\n",
       " 8,\n",
       " 7,\n",
       " 1,\n",
       " 0,\n",
       " 3,\n",
       " 4,\n",
       " 0,\n",
       " 4,\n",
       " 9,\n",
       " 5,\n",
       " 5,\n",
       " 5,\n",
       " 9,\n",
       " 6,\n",
       " 5,\n",
       " 0,\n",
       " 5,\n",
       " 3,\n",
       " 8,\n",
       " 4,\n",
       " 7,\n",
       " 3,\n",
       " 7,\n",
       " 5,\n",
       " 9,\n",
       " 2,\n",
       " 9,\n",
       " 1,\n",
       " 2,\n",
       " 1,\n",
       " 4,\n",
       " 6,\n",
       " 5,\n",
       " 7,\n",
       " 2,\n",
       " 5,\n",
       " 3,\n",
       " 3,\n",
       " 8,\n",
       " 6,\n",
       " 2,\n",
       " 7,\n",
       " 6,\n",
       " 4,\n",
       " 3,\n",
       " 2,\n",
       " 1,\n",
       " 2,\n",
       " 2,\n",
       " 3,\n",
       " 5,\n",
       " 0,\n",
       " 5,\n",
       " 9,\n",
       " 4,\n",
       " 0,\n",
       " 9,\n",
       " 9,\n",
       " 6,\n",
       " 0,\n",
       " 4,\n",
       " 3,\n",
       " 3,\n",
       " 8,\n",
       " 1,\n",
       " 5,\n",
       " 8,\n",
       " 8,\n",
       " 2,\n",
       " 5,\n",
       " 3,\n",
       " 1,\n",
       " 5,\n",
       " 1,\n",
       " 5,\n",
       " 4,\n",
       " 7,\n",
       " 1,\n",
       " 2,\n",
       " 2,\n",
       " 4,\n",
       " 3,\n",
       " 7,\n",
       " 2,\n",
       " 8,\n",
       " 1,\n",
       " 1,\n",
       " 0,\n",
       " 1,\n",
       " 3,\n",
       " 2,\n",
       " 8,\n",
       " 3,\n",
       " 4,\n",
       " 0,\n",
       " 5,\n",
       " 3,\n",
       " 0,\n",
       " 9,\n",
       " 8,\n",
       " 7,\n",
       " 3,\n",
       " 2,\n",
       " 6,\n",
       " 5,\n",
       " 7,\n",
       " 0,\n",
       " 7,\n",
       " 5,\n",
       " 3,\n",
       " 6,\n",
       " 6,\n",
       " 4,\n",
       " 7,\n",
       " 6,\n",
       " 8,\n",
       " 2,\n",
       " 2,\n",
       " 1,\n",
       " 0,\n",
       " 6,\n",
       " 1,\n",
       " 9,\n",
       " 2,\n",
       " 0,\n",
       " 9,\n",
       " 2,\n",
       " 9,\n",
       " 8,\n",
       " 6,\n",
       " 7,\n",
       " 6,\n",
       " 6,\n",
       " 2,\n",
       " 0,\n",
       " 3,\n",
       " 0,\n",
       " 5,\n",
       " 2,\n",
       " 6,\n",
       " 1,\n",
       " 2,\n",
       " 8,\n",
       " 0,\n",
       " 7,\n",
       " 7,\n",
       " 5,\n",
       " 2,\n",
       " 4,\n",
       " 0,\n",
       " 5,\n",
       " 0,\n",
       " 6,\n",
       " 4,\n",
       " 7,\n",
       " 3,\n",
       " 6,\n",
       " 3,\n",
       " 1,\n",
       " 0,\n",
       " 0,\n",
       " 8,\n",
       " 2,\n",
       " 7,\n",
       " 2,\n",
       " 9,\n",
       " 3,\n",
       " 3,\n",
       " 8,\n",
       " 2,\n",
       " 2,\n",
       " 0,\n",
       " 1,\n",
       " 7,\n",
       " 8,\n",
       " 3,\n",
       " 8,\n",
       " 3,\n",
       " 1,\n",
       " 3,\n",
       " 1,\n",
       " 2,\n",
       " 4,\n",
       " 0,\n",
       " 7,\n",
       " 0,\n",
       " 3,\n",
       " 0,\n",
       " 1,\n",
       " 3,\n",
       " 7,\n",
       " 3,\n",
       " 4,\n",
       " 4,\n",
       " 0,\n",
       " 9,\n",
       " 6,\n",
       " 2,\n",
       " 3,\n",
       " 7,\n",
       " 5,\n",
       " 0,\n",
       " 4,\n",
       " 7,\n",
       " 7,\n",
       " 9,\n",
       " 0,\n",
       " 9,\n",
       " 0,\n",
       " 9,\n",
       " 6,\n",
       " 5,\n",
       " 9,\n",
       " 0,\n",
       " 8,\n",
       " 0,\n",
       " 0,\n",
       " 3,\n",
       " 2,\n",
       " 1,\n",
       " 1,\n",
       " 0,\n",
       " 3,\n",
       " 8,\n",
       " 9,\n",
       " 7,\n",
       " 6,\n",
       " 4,\n",
       " 3,\n",
       " 3,\n",
       " 6,\n",
       " 8,\n",
       " 3,\n",
       " 8,\n",
       " 8,\n",
       " 0,\n",
       " 8,\n",
       " 5,\n",
       " 9,\n",
       " 3,\n",
       " 1,\n",
       " 3,\n",
       " 3,\n",
       " 5,\n",
       " 4,\n",
       " 6,\n",
       " 4,\n",
       " 9,\n",
       " 4,\n",
       " 2,\n",
       " 2,\n",
       " 3,\n",
       " 2,\n",
       " 1,\n",
       " 2,\n",
       " 6,\n",
       " 4,\n",
       " 4,\n",
       " 3,\n",
       " 5,\n",
       " 8,\n",
       " 8,\n",
       " 6,\n",
       " 6,\n",
       " 1,\n",
       " 1,\n",
       " 1,\n",
       " 5,\n",
       " 0,\n",
       " 8,\n",
       " 7,\n",
       " 3,\n",
       " 0,\n",
       " 3,\n",
       " 5,\n",
       " 6,\n",
       " 3,\n",
       " 4,\n",
       " 8,\n",
       " 5,\n",
       " 7,\n",
       " 8,\n",
       " 3,\n",
       " 6,\n",
       " 0,\n",
       " 6,\n",
       " 3,\n",
       " 3,\n",
       " 5,\n",
       " 6,\n",
       " 4,\n",
       " 8,\n",
       " 1,\n",
       " 2,\n",
       " 4,\n",
       " 4,\n",
       " 2,\n",
       " 2,\n",
       " 3,\n",
       " 9,\n",
       " 4,\n",
       " 4,\n",
       " 2,\n",
       " 3,\n",
       " 9,\n",
       " 7,\n",
       " 9,\n",
       " 9,\n",
       " 9,\n",
       " 2,\n",
       " 5,\n",
       " 6,\n",
       " 3,\n",
       " 8,\n",
       " 5,\n",
       " 8,\n",
       " 8,\n",
       " 8,\n",
       " 1,\n",
       " 1,\n",
       " 5,\n",
       " 1,\n",
       " 0,\n",
       " 1,\n",
       " 4,\n",
       " 7,\n",
       " 6,\n",
       " 3,\n",
       " 1,\n",
       " 8,\n",
       " 3,\n",
       " 5,\n",
       " 3,\n",
       " 3,\n",
       " 8,\n",
       " 4,\n",
       " 6,\n",
       " 6,\n",
       " 4,\n",
       " 1,\n",
       " 0,\n",
       " 2,\n",
       " 7,\n",
       " 1,\n",
       " 7,\n",
       " 5,\n",
       " 1,\n",
       " 8,\n",
       " 6,\n",
       " 4,\n",
       " 0,\n",
       " 0,\n",
       " 1,\n",
       " 9,\n",
       " 4,\n",
       " 3,\n",
       " 1,\n",
       " 0,\n",
       " 5,\n",
       " 9,\n",
       " 1,\n",
       " 6,\n",
       " 0,\n",
       " 9,\n",
       " 0,\n",
       " 5,\n",
       " 7,\n",
       " 7,\n",
       " 5,\n",
       " 5,\n",
       " 4,\n",
       " 5,\n",
       " 3,\n",
       " 9,\n",
       " 8,\n",
       " 9,\n",
       " 3,\n",
       " 3,\n",
       " 0,\n",
       " 1,\n",
       " 4,\n",
       " 0,\n",
       " 2,\n",
       " 5,\n",
       " 8,\n",
       " 0,\n",
       " 2,\n",
       " 1,\n",
       " 5,\n",
       " 9,\n",
       " 3,\n",
       " 4,\n",
       " 4,\n",
       " 2,\n",
       " 8,\n",
       " 6,\n",
       " 5,\n",
       " 5,\n",
       " 3,\n",
       " 4,\n",
       " 1,\n",
       " 9,\n",
       " 8,\n",
       " 9,\n",
       " 0,\n",
       " 2,\n",
       " 5,\n",
       " 0,\n",
       " 0,\n",
       " 3,\n",
       " 0,\n",
       " 4,\n",
       " 7,\n",
       " 9,\n",
       " 2,\n",
       " 1,\n",
       " 3,\n",
       " 3,\n",
       " 0,\n",
       " 5,\n",
       " 2,\n",
       " 2,\n",
       " 8,\n",
       " 8,\n",
       " 3,\n",
       " 4,\n",
       " 0,\n",
       " 3,\n",
       " 9,\n",
       " 9,\n",
       " 7,\n",
       " 9,\n",
       " 8,\n",
       " 2,\n",
       " 6,\n",
       " 0,\n",
       " 6,\n",
       " 9,\n",
       " 1,\n",
       " 8,\n",
       " 7,\n",
       " 7,\n",
       " 9,\n",
       " 2,\n",
       " 3,\n",
       " 3,\n",
       " 0,\n",
       " 4,\n",
       " 8,\n",
       " 3,\n",
       " 8,\n",
       " 6,\n",
       " 3,\n",
       " 7,\n",
       " 9,\n",
       " 6,\n",
       " 8,\n",
       " 3,\n",
       " 3,\n",
       " 1,\n",
       " 1,\n",
       " 0,\n",
       " 3,\n",
       " 6,\n",
       " 2,\n",
       " 1,\n",
       " 3,\n",
       " 1,\n",
       " 7,\n",
       " 3,\n",
       " 2,\n",
       " 0,\n",
       " 1,\n",
       " 3,\n",
       " 7,\n",
       " 5,\n",
       " 1,\n",
       " 8,\n",
       " 3,\n",
       " 0,\n",
       " 7,\n",
       " 1,\n",
       " 8,\n",
       " 8,\n",
       " 5,\n",
       " 0,\n",
       " 4,\n",
       " 2,\n",
       " 6,\n",
       " 8,\n",
       " 0,\n",
       " 2,\n",
       " 7,\n",
       " 8,\n",
       " 3,\n",
       " 4,\n",
       " 8,\n",
       " 2,\n",
       " 3,\n",
       " 3,\n",
       " 1,\n",
       " 2,\n",
       " 6,\n",
       " 6,\n",
       " 1,\n",
       " 0,\n",
       " 5,\n",
       " 4,\n",
       " 4,\n",
       " 9,\n",
       " 4,\n",
       " 1,\n",
       " 6,\n",
       " 8,\n",
       " 9,\n",
       " 5,\n",
       " 3,\n",
       " 7,\n",
       " 7,\n",
       " 1,\n",
       " 8,\n",
       " 6,\n",
       " 6,\n",
       " 4,\n",
       " 7,\n",
       " 3,\n",
       " 9,\n",
       " 2,\n",
       " 7,\n",
       " 4,\n",
       " 5,\n",
       " 0,\n",
       " 0,\n",
       " 8,\n",
       " 5,\n",
       " 3,\n",
       " 6,\n",
       " 6,\n",
       " 7,\n",
       " 4,\n",
       " 5,\n",
       " 3,\n",
       " 2,\n",
       " 1,\n",
       " 8,\n",
       " 0,\n",
       " 4,\n",
       " 6,\n",
       " 0,\n",
       " 5,\n",
       " 7,\n",
       " 8,\n",
       " 7,\n",
       " 3,\n",
       " 5,\n",
       " 0,\n",
       " 9,\n",
       " 2,\n",
       " 1,\n",
       " 0,\n",
       " 1,\n",
       " 5,\n",
       " 3,\n",
       " 7,\n",
       " 1,\n",
       " 9,\n",
       " 4,\n",
       " 9,\n",
       " 2,\n",
       " 9,\n",
       " 6,\n",
       " 0,\n",
       " 2,\n",
       " 7,\n",
       " 9,\n",
       " 3,\n",
       " 6,\n",
       " 4,\n",
       " 5,\n",
       " 3,\n",
       " 2,\n",
       " 0,\n",
       " 8,\n",
       " 0,\n",
       " 6,\n",
       " 0,\n",
       " 1,\n",
       " 4,\n",
       " 4,\n",
       " 4,\n",
       " 1,\n",
       " 1,\n",
       " 0,\n",
       " 8,\n",
       " 0,\n",
       " 2,\n",
       " 6,\n",
       " 8,\n",
       " 7,\n",
       " 0,\n",
       " 5,\n",
       " 0,\n",
       " 0,\n",
       " 8,\n",
       " 5,\n",
       " 0,\n",
       " 3,\n",
       " 6,\n",
       " 2,\n",
       " 2,\n",
       " 8,\n",
       " 8,\n",
       " 9,\n",
       " 6,\n",
       " 9,\n",
       " 3,\n",
       " 4,\n",
       " 5,\n",
       " 7,\n",
       " 9,\n",
       " 9,\n",
       " 4,\n",
       " 0,\n",
       " 6,\n",
       " 1,\n",
       " 2,\n",
       " 7,\n",
       " 6,\n",
       " 6,\n",
       " 7,\n",
       " 6,\n",
       " 4,\n",
       " 4,\n",
       " 0,\n",
       " 7,\n",
       " 5,\n",
       " 5,\n",
       " 9,\n",
       " 5,\n",
       " 0,\n",
       " 5,\n",
       " 4,\n",
       " 1,\n",
       " 0,\n",
       " 6,\n",
       " 8,\n",
       " 0,\n",
       " 6,\n",
       " 8,\n",
       " 4,\n",
       " 1,\n",
       " 9,\n",
       " 7,\n",
       " 7,\n",
       " 7,\n",
       " 1,\n",
       " 6,\n",
       " 8,\n",
       " 4,\n",
       " 5,\n",
       " 9,\n",
       " 8,\n",
       " 2,\n",
       " 7,\n",
       " 5,\n",
       " 1,\n",
       " 0,\n",
       " 1,\n",
       " 3,\n",
       " 2,\n",
       " 4,\n",
       " 1,\n",
       " 3,\n",
       " 0,\n",
       " 6,\n",
       " 8,\n",
       " 6,\n",
       " 5,\n",
       " 7,\n",
       " 1,\n",
       " 3,\n",
       " 4,\n",
       " 3,\n",
       " 8,\n",
       " 2,\n",
       " 6,\n",
       " 9,\n",
       " 6,\n",
       " 1,\n",
       " 0,\n",
       " 1,\n",
       " 5,\n",
       " 1,\n",
       " 4,\n",
       " 5,\n",
       " 7,\n",
       " 3,\n",
       " 2,\n",
       " 9,\n",
       " 1,\n",
       " 8,\n",
       " 2,\n",
       " 7,\n",
       " 7,\n",
       " 5,\n",
       " 0,\n",
       " 3,\n",
       " 6,\n",
       " 5,\n",
       " 8,\n",
       " 6,\n",
       " 8,\n",
       " 0,\n",
       " 7,\n",
       " 1,\n",
       " 0,\n",
       " 2,\n",
       " 5,\n",
       " 3,\n",
       " 8,\n",
       " 9,\n",
       " 5,\n",
       " 0,\n",
       " 5,\n",
       " 6,\n",
       " 3,\n",
       " 8,\n",
       " 4,\n",
       " 1,\n",
       " 0,\n",
       " 6,\n",
       " 0,\n",
       " 1,\n",
       " 3,\n",
       " 2,\n",
       " 3,\n",
       " 8,\n",
       " 5,\n",
       " 9,\n",
       " 8,\n",
       " 5,\n",
       " 1,\n",
       " 4,\n",
       " 6,\n",
       " 4,\n",
       " 7,\n",
       " 2,\n",
       " 0,\n",
       " 5,\n",
       " 3,\n",
       " 0,\n",
       " 4,\n",
       " 9,\n",
       " 9,\n",
       " 7,\n",
       " 7,\n",
       " 6,\n",
       " 4,\n",
       " 6,\n",
       " 7,\n",
       " 4,\n",
       " 9,\n",
       " 3,\n",
       " 1,\n",
       " 2,\n",
       " 6,\n",
       " 0,\n",
       " 5,\n",
       " 3,\n",
       " 7,\n",
       " 2,\n",
       " 2,\n",
       " 4,\n",
       " 0,\n",
       " 4,\n",
       " 3,\n",
       " 8,\n",
       " 1,\n",
       " 5,\n",
       " 3,\n",
       " 9,\n",
       " 9,\n",
       " 4,\n",
       " 7,\n",
       " 0,\n",
       " 3,\n",
       " 9,\n",
       " 2,\n",
       " 5,\n",
       " 4,\n",
       " 2,\n",
       " 7,\n",
       " 9,\n",
       " 1,\n",
       " 0,\n",
       " 6,\n",
       " 0,\n",
       " 7,\n",
       " 7,\n",
       " 9,\n",
       " 7,\n",
       " 6,\n",
       " 1,\n",
       " 0,\n",
       " 2,\n",
       " 1,\n",
       " 7,\n",
       " 0,\n",
       " 3,\n",
       " 9,\n",
       " ...]"
      ]
     },
     "execution_count": 5,
     "metadata": {},
     "output_type": "execute_result"
    }
   ],
   "source": [
    "new_labels"
   ]
  },
  {
   "cell_type": "markdown",
   "metadata": {},
   "source": [
    "# PATE Analysis"
   ]
  },
  {
   "cell_type": "code",
   "execution_count": 6,
   "metadata": {},
   "outputs": [
    {
     "name": "stdout",
     "output_type": "stream",
     "text": [
      "(10,)\n"
     ]
    },
    {
     "data": {
      "text/plain": [
       "9"
      ]
     },
     "execution_count": 6,
     "metadata": {},
     "output_type": "execute_result"
    }
   ],
   "source": [
    "labels = np.array([9, 9, 3, 6, 9, 9, 9, 9, 8, 2])\n",
    "print(labels.shape)\n",
    "counts = np.bincount(labels, minlength=10)\n",
    "query_result = np.argmax(counts)\n",
    "query_result"
   ]
  },
  {
   "cell_type": "code",
   "execution_count": 7,
   "metadata": {},
   "outputs": [
    {
     "name": "stderr",
     "output_type": "stream",
     "text": [
      "WARNING: Logging before flag parsing goes to stderr.\n",
      "W0814 16:49:13.779828 140459328067392 secure_random.py:26] Falling back to insecure randomness since the required custom op could not be found for the installed version of TensorFlow. Fix this by compiling custom ops. Missing file was '/usr/local/lib/python3.6/dist-packages/tf_encrypted/operations/secure_random/secure_random_module_tf_1.14.0.so'\n",
      "W0814 16:49:13.832621 140459328067392 deprecation_wrapper.py:119] From /usr/local/lib/python3.6/dist-packages/tf_encrypted/session.py:26: The name tf.Session is deprecated. Please use tf.compat.v1.Session instead.\n",
      "\n"
     ]
    }
   ],
   "source": [
    "from syft.frameworks.torch.differential_privacy import pate"
   ]
  },
  {
   "cell_type": "code",
   "execution_count": 8,
   "metadata": {},
   "outputs": [
    {
     "name": "stdout",
     "output_type": "stream",
     "text": [
      "(100, 100)\n",
      "Warning: May not have used enough values of l. Increase 'moments' variable and run again.\n"
     ]
    }
   ],
   "source": [
    "num_teachers, num_examples, num_labels = (100, 100, 10)\n",
    "preds = (np.random.rand(num_teachers, num_examples) * num_labels).astype(int) #fake preds\n",
    "indices = (np.random.rand(num_examples) * num_labels).astype(int) # true answers\n",
    "print(preds.shape)\n",
    "preds[:,0:10] *= 0\n",
    "\n",
    "data_dep_eps, data_ind_eps = pate.perform_analysis(teacher_preds=preds, indices=indices, noise_eps=0.1, delta=1e-5, moments = 10)\n",
    "\n",
    "assert data_dep_eps < data_ind_eps\n",
    "\n"
   ]
  },
  {
   "cell_type": "code",
   "execution_count": 9,
   "metadata": {},
   "outputs": [
    {
     "name": "stdout",
     "output_type": "stream",
     "text": [
      "Warning: May not have used enough values of l. Increase 'moments' variable and run again.\n",
      "Data Independent Epsilon: 11.756462732485115\n",
      "Data Dependent Epsilon: 1.52655213289881\n"
     ]
    }
   ],
   "source": [
    "data_dep_eps, data_ind_eps = pate.perform_analysis(teacher_preds=preds, indices=indices, noise_eps=0.1, delta=1e-5)\n",
    "print(\"Data Independent Epsilon:\", data_ind_eps)\n",
    "print(\"Data Dependent Epsilon:\", data_dep_eps)"
   ]
  },
  {
   "cell_type": "code",
   "execution_count": 12,
   "metadata": {},
   "outputs": [
    {
     "data": {
      "text/plain": [
       "array([[0, 0, 0, ..., 3, 5, 9],\n",
       "       [0, 0, 0, ..., 5, 9, 3],\n",
       "       [0, 0, 0, ..., 6, 3, 7],\n",
       "       ...,\n",
       "       [0, 0, 0, ..., 1, 5, 6],\n",
       "       [0, 0, 0, ..., 8, 4, 8],\n",
       "       [0, 0, 0, ..., 8, 0, 0]])"
      ]
     },
     "execution_count": 12,
     "metadata": {},
     "output_type": "execute_result"
    }
   ],
   "source": [
    "preds\n"
   ]
  },
  {
   "cell_type": "code",
   "execution_count": 11,
   "metadata": {},
   "outputs": [],
   "source": [
    "preds[:,0:50] *= 0"
   ]
  },
  {
   "cell_type": "code",
   "execution_count": 13,
   "metadata": {},
   "outputs": [
    {
     "name": "stdout",
     "output_type": "stream",
     "text": [
      "Data Independent Epsilon: 11.756462732485115\n",
      "Data Dependent Epsilon: 0.9029013677789843\n"
     ]
    }
   ],
   "source": [
    "data_dep_eps, data_ind_eps = pate.perform_analysis(teacher_preds=preds, indices=indices, noise_eps=0.1, delta=1e-5, moments=20)\n",
    "print(\"Data Independent Epsilon:\", data_ind_eps)\n",
    "print(\"Data Dependent Epsilon:\", data_dep_eps)"
   ]
  },
  {
   "cell_type": "code",
   "execution_count": null,
   "metadata": {},
   "outputs": [],
   "source": []
  },
  {
   "cell_type": "markdown",
   "metadata": {},
   "source": [
    "# Where to Go From Here\n",
    "\n",
    "\n",
    "Read:\n",
    "    - Algorithmic Foundations of Differential Privacy: https://www.cis.upenn.edu/~aaroth/Papers/privacybook.pdf\n",
    "    - Deep Learning with Differential Privacy: https://arxiv.org/pdf/1607.00133.pdf\n",
    "    - The Ethical Algorithm: https://www.amazon.com/Ethical-Algorithm-Science-Socially-Design/dp/0190948205\n",
    "   \n",
    "Topics:\n",
    "    - The Exponential Mechanism\n",
    "    - The Moment's Accountant\n",
    "    - Differentially Private Stochastic Gradient Descent\n",
    "\n",
    "Advice:\n",
    "    - For deployments - stick with public frameworks!\n",
    "    - Join the Differential Privacy Community\n",
    "    - Don't get ahead of yourself - DP is still in the early days"
   ]
  },
  {
   "cell_type": "code",
   "execution_count": null,
   "metadata": {},
   "outputs": [],
   "source": []
  },
  {
   "cell_type": "code",
   "execution_count": null,
   "metadata": {},
   "outputs": [],
   "source": []
  },
  {
   "cell_type": "markdown",
   "metadata": {},
   "source": [
    "# Section Project:\n",
    "\n",
    "For the final project for this section, you're going to train a DP model using this PATE method on the MNIST dataset, provided below."
   ]
  },
  {
   "cell_type": "code",
   "execution_count": 26,
   "metadata": {},
   "outputs": [],
   "source": [
    "import torchvision.datasets as datasets\n",
    "from torchvision import transforms\n",
    "from sklearn.model_selection import KFold\n",
    "\n",
    "transform = transforms.Compose([transforms.ToTensor(),\n",
    "                                transforms.Normalize((0.5,), (0.5,)),])\n",
    "teacher_data = datasets.MNIST(root='./data_', train=True, download=True, transform=transform)\n",
    "student_data = datasets.MNIST(root='./data_', train=True, download=False, transform=transform)"
   ]
  },
  {
   "cell_type": "code",
   "execution_count": 27,
   "metadata": {},
   "outputs": [],
   "source": [
    "k_fold = KFold(n_splits=2)"
   ]
  },
  {
   "cell_type": "code",
   "execution_count": 28,
   "metadata": {},
   "outputs": [],
   "source": [
    "student_trn, student_val = None,None\n",
    "for i,(train_idx, test_idx) in enumerate(k_fold.split(student_data)):\n",
    "    student_trn = torch.utils.data.Subset(student_data, train_idx)\n",
    "    student_val = torch.utils.data.Subset(student_data, test_idx)"
   ]
  },
  {
   "cell_type": "markdown",
   "metadata": {},
   "source": [
    "# Hyperparameters"
   ]
  },
  {
   "cell_type": "code",
   "execution_count": 17,
   "metadata": {},
   "outputs": [],
   "source": [
    "num_teachers = 10\n",
    "n_labels = 10\n",
    "num_examples = 64\n",
    "batch_sz = 64\n",
    "print_every = 5\n",
    "epochs = 50"
   ]
  },
  {
   "cell_type": "code",
   "execution_count": 192,
   "metadata": {},
   "outputs": [
    {
     "data": {
      "image/png": "[encoded data removed]",
      "text/plain": [
       "<Figure size 432x288 with 1 Axes>"
      ]
     },
     "metadata": {
      "needs_background": "light"
     },
     "output_type": "display_data"
    }
   ],
   "source": [
    "import matplotlib.pyplot as plt\n",
    "image, _ = next(iter(trainloader))\n",
    "plt.imshow(transforms.ToPILImage()(image[0,:]),interpolation=\"bicubic\");\n"
   ]
  },
  {
   "cell_type": "code",
   "execution_count": 376,
   "metadata": {},
   "outputs": [
    {
     "ename": "NameError",
     "evalue": "name 'model' is not defined",
     "traceback": [
      "\u001b[0;31m---------------------------------------------------------------------------\u001b[0m",
      "\u001b[0;31mNameError\u001b[0m                                 Traceback (most recent call last)",
      "\u001b[0;32m<ipython-input-376-be5218fa045d>\u001b[0m in \u001b[0;36m<module>\u001b[0;34m()\u001b[0m\n\u001b[0;32m----> 1\u001b[0;31m \u001b[0mps\u001b[0m \u001b[0;34m=\u001b[0m \u001b[0mtorch\u001b[0m\u001b[0;34m.\u001b[0m\u001b[0mexp\u001b[0m\u001b[0;34m(\u001b[0m\u001b[0mmodel\u001b[0m\u001b[0;34m.\u001b[0m\u001b[0mforward\u001b[0m\u001b[0;34m(\u001b[0m\u001b[0mimage\u001b[0m\u001b[0;34m)\u001b[0m\u001b[0;34m)\u001b[0m\u001b[0;34m\u001b[0m\u001b[0;34m\u001b[0m\u001b[0m\n\u001b[0m\u001b[1;32m      2\u001b[0m \u001b[0mps\u001b[0m\u001b[0;34m.\u001b[0m\u001b[0mshape\u001b[0m\u001b[0;34m\u001b[0m\u001b[0;34m\u001b[0m\u001b[0m\n",
      "\u001b[0;31mNameError\u001b[0m: name 'model' is not defined"
     ],
     "output_type": "error"
    }
   ],
   "source": [
    "ps = torch.exp(model.forward(image))\n",
    "ps.shape"
   ]
  },
  {
   "cell_type": "code",
   "execution_count": 389,
   "metadata": {},
   "outputs": [],
   "source": [
    "del Teacher, teachers"
   ]
  },
  {
   "cell_type": "code",
   "execution_count": 392,
   "metadata": {},
   "outputs": [],
   "source": [
    "from torch import nn, optim\n",
    "import torch.nn.functional as F\n",
    "\n",
    "class Teacher(torch.nn.Module):\n",
    "    def __init__(self,classess):\n",
    "        super(Teacher, self).__init__()\n",
    "        self.l1 = nn.Linear(784, 512)\n",
    "        self.l2 = nn.Linear(512,256)\n",
    "        self.l3 = nn.Linear(256,128)\n",
    "        self.l4 = nn.Linear(128,64)\n",
    "        self.l5 = nn.Linear(64, classess)\n",
    "        self.dropout = nn.Dropout(p = 0.2)\n",
    "\n",
    "    def forward(self,x):\n",
    "        # Flatten image\n",
    "        x = x.view(x.shape[0], -1)\n",
    "        \n",
    "        x = F.relu(self.l1(x))\n",
    "        \n",
    "        x = F.relu(self.l2(x))\n",
    "        x = F.relu(self.l3(x))\n",
    "        \n",
    "        x = self.l4(x)\n",
    "                         \n",
    "        x = F.log_softmax(self.l5(x), dim = 1)\n",
    "        return x\n",
    "        "
   ]
  },
  {
   "cell_type": "code",
   "execution_count": 393,
   "metadata": {},
   "outputs": [],
   "source": [
    "teachers = [None for _ in range(num_teachers)]\n",
    "for i in range(num_teachers):\n",
    "    teachers[i] = Teacher(classess = n_labels)"
   ]
  },
  {
   "cell_type": "code",
   "execution_count": 394,
   "metadata": {},
   "outputs": [],
   "source": [
    "kf = KFold(n_splits=num_teachers) "
   ]
  },
  {
   "cell_type": "code",
   "execution_count": 395,
   "metadata": {},
   "outputs": [
    {
     "name": "stdout",
     "output_type": "stream",
     "text": [
      "Training Teacher: 0\n",
      "Epochs 5/50...Train_loss: 26.204..Test_loss: 0.387..Test_accuracy: 0.888\n",
      "Epochs 10/50...Train_loss: 33.082..Test_loss: 0.324..Test_accuracy: 0.916\n",
      "Epochs 15/50...Train_loss: 36.407..Test_loss: 0.364..Test_accuracy: 0.912\n",
      "Epochs 20/50...Train_loss: 37.624..Test_loss: 0.363..Test_accuracy: 0.929\n",
      "Epochs 25/50...Train_loss: 38.684..Test_loss: 0.439..Test_accuracy: 0.910\n",
      "Epochs 30/50...Train_loss: 40.153..Test_loss: 0.451..Test_accuracy: 0.918\n",
      "Epochs 35/50...Train_loss: 41.635..Test_loss: 0.392..Test_accuracy: 0.929\n",
      "Epochs 40/50...Train_loss: 41.667..Test_loss: 0.409..Test_accuracy: 0.936\n",
      "Epochs 45/50...Train_loss: 41.671..Test_loss: 0.424..Test_accuracy: 0.936\n",
      "Epochs 50/50...Train_loss: 41.673..Test_loss: 0.438..Test_accuracy: 0.937\n",
      "Training Teacher: 1\n",
      "Epochs 5/50...Train_loss: 25.251..Test_loss: 0.390..Test_accuracy: 0.890\n",
      "Epochs 10/50...Train_loss: 31.660..Test_loss: 0.474..Test_accuracy: 0.876\n",
      "Epochs 15/50...Train_loss: 34.650..Test_loss: 0.444..Test_accuracy: 0.905\n",
      "Epochs 20/50...Train_loss: 35.835..Test_loss: 0.524..Test_accuracy: 0.895\n",
      "Epochs 25/50...Train_loss: 37.802..Test_loss: 0.491..Test_accuracy: 0.913\n",
      "Epochs 30/50...Train_loss: 39.186..Test_loss: 0.452..Test_accuracy: 0.916\n",
      "Epochs 35/50...Train_loss: 40.908..Test_loss: 0.467..Test_accuracy: 0.912\n",
      "Epochs 40/50...Train_loss: 41.027..Test_loss: 0.438..Test_accuracy: 0.928\n",
      "Epochs 45/50...Train_loss: 41.031..Test_loss: 0.464..Test_accuracy: 0.929\n",
      "Epochs 50/50...Train_loss: 41.033..Test_loss: 0.480..Test_accuracy: 0.928\n",
      "Training Teacher: 2\n",
      "Epochs 5/50...Train_loss: 28.591..Test_loss: 0.480..Test_accuracy: 0.862\n",
      "Epochs 10/50...Train_loss: 36.788..Test_loss: 0.443..Test_accuracy: 0.894\n",
      "Epochs 15/50...Train_loss: 40.011..Test_loss: 0.450..Test_accuracy: 0.908\n",
      "Epochs 20/50...Train_loss: 42.191..Test_loss: 0.482..Test_accuracy: 0.903\n",
      "Epochs 25/50...Train_loss: 44.242..Test_loss: 0.533..Test_accuracy: 0.897\n",
      "Epochs 30/50...Train_loss: 44.563..Test_loss: 0.539..Test_accuracy: 0.923\n",
      "Epochs 35/50...Train_loss: 44.575..Test_loss: 0.570..Test_accuracy: 0.922\n",
      "Epochs 40/50...Train_loss: 44.582..Test_loss: 0.591..Test_accuracy: 0.922\n",
      "Epochs 45/50...Train_loss: 44.587..Test_loss: 0.608..Test_accuracy: 0.922\n",
      "Epochs 50/50...Train_loss: 44.591..Test_loss: 0.622..Test_accuracy: 0.922\n",
      "Training Teacher: 3\n",
      "Epochs 5/50...Train_loss: 23.959..Test_loss: 0.375..Test_accuracy: 0.891\n",
      "Epochs 10/50...Train_loss: 30.129..Test_loss: 0.412..Test_accuracy: 0.887\n",
      "Epochs 15/50...Train_loss: 33.246..Test_loss: 0.376..Test_accuracy: 0.917\n",
      "Epochs 20/50...Train_loss: 35.525..Test_loss: 0.373..Test_accuracy: 0.931\n",
      "Epochs 25/50...Train_loss: 35.982..Test_loss: 0.619..Test_accuracy: 0.899\n",
      "Epochs 30/50...Train_loss: 38.409..Test_loss: 0.386..Test_accuracy: 0.917\n",
      "Epochs 35/50...Train_loss: 39.249..Test_loss: 0.449..Test_accuracy: 0.930\n",
      "Epochs 40/50...Train_loss: 39.693..Test_loss: 0.499..Test_accuracy: 0.931\n",
      "Epochs 45/50...Train_loss: 41.076..Test_loss: 0.459..Test_accuracy: 0.921\n",
      "Epochs 50/50...Train_loss: 41.249..Test_loss: 0.412..Test_accuracy: 0.940\n",
      "Training Teacher: 4\n",
      "Epochs 5/50...Train_loss: 28.395..Test_loss: 0.371..Test_accuracy: 0.886\n",
      "Epochs 10/50...Train_loss: 36.374..Test_loss: 0.339..Test_accuracy: 0.912\n",
      "Epochs 15/50...Train_loss: 40.232..Test_loss: 0.332..Test_accuracy: 0.922\n",
      "Epochs 20/50...Train_loss: 41.403..Test_loss: 0.394..Test_accuracy: 0.928\n",
      "Epochs 25/50...Train_loss: 44.445..Test_loss: 0.344..Test_accuracy: 0.928\n",
      "Epochs 30/50...Train_loss: 45.638..Test_loss: 0.373..Test_accuracy: 0.924\n",
      "Epochs 35/50...Train_loss: 46.700..Test_loss: 0.603..Test_accuracy: 0.884\n",
      "Epochs 40/50...Train_loss: 47.971..Test_loss: 0.395..Test_accuracy: 0.930\n",
      "Epochs 45/50...Train_loss: 48.078..Test_loss: 0.382..Test_accuracy: 0.938\n",
      "Epochs 50/50...Train_loss: 48.084..Test_loss: 0.398..Test_accuracy: 0.938\n",
      "Training Teacher: 5\n",
      "Epochs 5/50...Train_loss: 26.076..Test_loss: 0.455..Test_accuracy: 0.866\n",
      "Epochs 10/50...Train_loss: 33.531..Test_loss: 0.441..Test_accuracy: 0.883\n",
      "Epochs 15/50...Train_loss: 36.867..Test_loss: 0.479..Test_accuracy: 0.897\n",
      "Epochs 20/50...Train_loss: 38.437..Test_loss: 0.592..Test_accuracy: 0.886\n",
      "Epochs 25/50...Train_loss: 39.398..Test_loss: 0.510..Test_accuracy: 0.904\n",
      "Epochs 30/50...Train_loss: 41.005..Test_loss: 0.535..Test_accuracy: 0.899\n",
      "Epochs 35/50...Train_loss: 42.929..Test_loss: 0.526..Test_accuracy: 0.893\n",
      "Epochs 40/50...Train_loss: 43.162..Test_loss: 0.481..Test_accuracy: 0.918\n",
      "Epochs 45/50...Train_loss: 43.170..Test_loss: 0.509..Test_accuracy: 0.920\n",
      "Epochs 50/50...Train_loss: 43.175..Test_loss: 0.530..Test_accuracy: 0.921\n",
      "Training Teacher: 6\n",
      "Epochs 5/50...Train_loss: 27.264..Test_loss: 0.408..Test_accuracy: 0.875\n",
      "Epochs 10/50...Train_loss: 35.109..Test_loss: 0.330..Test_accuracy: 0.916\n",
      "Epochs 15/50...Train_loss: 38.566..Test_loss: 0.548..Test_accuracy: 0.876\n",
      "Epochs 20/50...Train_loss: 40.422..Test_loss: 0.495..Test_accuracy: 0.911\n",
      "Epochs 25/50...Train_loss: 41.566..Test_loss: 0.426..Test_accuracy: 0.926\n",
      "Epochs 30/50...Train_loss: 41.754..Test_loss: 0.498..Test_accuracy: 0.924\n",
      "Epochs 35/50...Train_loss: 41.765..Test_loss: 0.512..Test_accuracy: 0.927\n",
      "Epochs 40/50...Train_loss: 41.769..Test_loss: 0.533..Test_accuracy: 0.926\n",
      "Epochs 45/50...Train_loss: 41.772..Test_loss: 0.550..Test_accuracy: 0.928\n",
      "Epochs 50/50...Train_loss: 41.774..Test_loss: 0.567..Test_accuracy: 0.926\n",
      "Training Teacher: 7\n",
      "Epochs 5/50...Train_loss: 28.958..Test_loss: 0.433..Test_accuracy: 0.866\n",
      "Epochs 10/50...Train_loss: 38.063..Test_loss: 0.390..Test_accuracy: 0.898\n",
      "Epochs 15/50...Train_loss: 42.960..Test_loss: 0.448..Test_accuracy: 0.890\n",
      "Epochs 20/50...Train_loss: 46.023..Test_loss: 0.356..Test_accuracy: 0.920\n",
      "Epochs 25/50...Train_loss: 46.963..Test_loss: 0.373..Test_accuracy: 0.921\n",
      "Epochs 30/50...Train_loss: 49.387..Test_loss: 0.411..Test_accuracy: 0.915\n",
      "Epochs 35/50...Train_loss: 50.771..Test_loss: 0.452..Test_accuracy: 0.909\n",
      "Epochs 40/50...Train_loss: 52.005..Test_loss: 0.384..Test_accuracy: 0.931\n",
      "Epochs 45/50...Train_loss: 52.583..Test_loss: 0.468..Test_accuracy: 0.915\n",
      "Epochs 50/50...Train_loss: 53.355..Test_loss: 0.407..Test_accuracy: 0.928\n",
      "Training Teacher: 8\n",
      "Epochs 5/50...Train_loss: 27.352..Test_loss: 0.394..Test_accuracy: 0.876\n",
      "Epochs 10/50...Train_loss: 35.063..Test_loss: 0.371..Test_accuracy: 0.900\n",
      "Epochs 15/50...Train_loss: 38.866..Test_loss: 0.472..Test_accuracy: 0.889\n",
      "Epochs 20/50...Train_loss: 41.232..Test_loss: 0.395..Test_accuracy: 0.908\n",
      "Epochs 25/50...Train_loss: 42.493..Test_loss: 0.405..Test_accuracy: 0.925\n",
      "Epochs 30/50...Train_loss: 42.804..Test_loss: 0.397..Test_accuracy: 0.926\n",
      "Epochs 35/50...Train_loss: 42.929..Test_loss: 0.445..Test_accuracy: 0.926\n",
      "Epochs 40/50...Train_loss: 42.936..Test_loss: 0.470..Test_accuracy: 0.926\n",
      "Epochs 45/50...Train_loss: 42.941..Test_loss: 0.493..Test_accuracy: 0.928\n",
      "Epochs 50/50...Train_loss: 42.943..Test_loss: 0.517..Test_accuracy: 0.929\n",
      "Training Teacher: 9\n",
      "Epochs 5/50...Train_loss: 22.102..Test_loss: 0.394..Test_accuracy: 0.881\n",
      "Epochs 10/50...Train_loss: 27.433..Test_loss: 0.418..Test_accuracy: 0.895\n",
      "Epochs 15/50...Train_loss: 29.947..Test_loss: 0.402..Test_accuracy: 0.907\n",
      "Epochs 20/50...Train_loss: 31.252..Test_loss: 0.496..Test_accuracy: 0.902\n",
      "Epochs 25/50...Train_loss: 32.484..Test_loss: 0.408..Test_accuracy: 0.920\n",
      "Epochs 30/50...Train_loss: 33.184..Test_loss: 0.457..Test_accuracy: 0.913\n",
      "Epochs 35/50...Train_loss: 34.357..Test_loss: 0.457..Test_accuracy: 0.914\n",
      "Epochs 40/50...Train_loss: 35.175..Test_loss: 0.451..Test_accuracy: 0.920\n",
      "Epochs 45/50...Train_loss: 35.180..Test_loss: 0.456..Test_accuracy: 0.924\n",
      "Epochs 50/50...Train_loss: 35.182..Test_loss: 0.471..Test_accuracy: 0.923\n"
     ]
    }
   ],
   "source": [
    "for t_i, (_, data_idx) in enumerate(kf.split(teacher_data)):\n",
    "    print(\"Training Teacher: {}\".format(t_i))\n",
    "    classifier = teachers[t_i]\n",
    "    \n",
    "    data = torch.utils.data.Subset(teacher_data, data_idx)\n",
    "\n",
    "    kf_trn = KFold(n_splits=2)\n",
    "    for i,(train_idx, test_idx) in enumerate(kf_trn.split(data)):\n",
    "        \n",
    "        train = torch.utils.data.Subset(data, train_idx)\n",
    "        test = torch.utils.data.Subset(data, test_idx)\n",
    "        \n",
    "        train_loader = torch.utils.data.DataLoader(train, batch_size = batch_sz, shuffle = True, num_workers = 4)\n",
    "        test_loader = torch.utils.data.DataLoader(test, batch_size = batch_sz, num_workers = 4)\n",
    "        \n",
    "        crit = nn.NLLLoss()\n",
    "        opt = optim.Adam(classifier.parameters(), lr = 1e-3)\n",
    "        \n",
    "        running_loss = 0\n",
    "        for epoch in range(epochs):\n",
    "            for x, y in train_loader:\n",
    "                opt.zero_grad()\n",
    "                log_ps = classifier(x)\n",
    "                loss = crit(log_ps, y)\n",
    "                loss.backward()\n",
    "                opt.step()\n",
    "                \n",
    "                running_loss += loss.item()\n",
    "            \n",
    "            if (epoch+1) % print_every == 0:\n",
    "                test_loss = 0\n",
    "                accuracy = 0\n",
    "                classifier.eval()\n",
    "                with torch.no_grad():\n",
    "                    for x, y in test_loader:\n",
    "                        log_ps = classifier(x)\n",
    "                        batch_loss = crit(log_ps, y)\n",
    "                        test_loss += batch_loss.item()\n",
    "                        \n",
    "                        ps = torch.exp(log_ps)\n",
    "                        top_p, top_class = ps.topk(1, dim = 1)\n",
    "                        equals = top_class == y.view(*top_class.shape)\n",
    "                        accuracy += torch.mean(equals.type(torch.FloatTensor))\n",
    "                        \n",
    "                print(f\"Epochs {epoch+1}/{epochs}...\"\n",
    "                      f\"Train_loss: {running_loss/print_every:.3f}..\"\n",
    "                      f\"Test_loss: {test_loss/len(test_loader):.3f}..\"\n",
    "                      f\"Test_accuracy: {accuracy/len(test_loader):.3f}\")\n",
    "                \n",
    "                \n",
    "                classifier.train()\n",
    "            \n",
    "                \n",
    "        break"
   ]
  },
  {
   "cell_type": "code",
   "execution_count": 413,
   "metadata": {},
   "outputs": [],
   "source": [
    "all_points = []\n",
    "for i in range(len(teachers)):\n",
    "    all_points+=[teachers[i].state_dict()]"
   ]
  },
  {
   "cell_type": "code",
   "execution_count": 414,
   "metadata": {},
   "outputs": [
    {
     "ename": "FileExistsError",
     "evalue": "[Errno 17] File exists: 'checkpoints'",
     "traceback": [
      "\u001b[0;31m---------------------------------------------------------------------------\u001b[0m",
      "\u001b[0;31mFileExistsError\u001b[0m                           Traceback (most recent call last)",
      "\u001b[0;32m<ipython-input-414-440ebe7edb5b>\u001b[0m in \u001b[0;36m<module>\u001b[0;34m()\u001b[0m\n\u001b[1;32m      1\u001b[0m \u001b[0;32mimport\u001b[0m \u001b[0mos\u001b[0m\u001b[0;34m\u001b[0m\u001b[0;34m\u001b[0m\u001b[0m\n\u001b[0;32m----> 2\u001b[0;31m \u001b[0mos\u001b[0m\u001b[0;34m.\u001b[0m\u001b[0mmkdir\u001b[0m\u001b[0;34m(\u001b[0m\u001b[0;34m'checkpoints'\u001b[0m\u001b[0;34m)\u001b[0m\u001b[0;34m\u001b[0m\u001b[0;34m\u001b[0m\u001b[0m\n\u001b[0m",
      "\u001b[0;31mFileExistsError\u001b[0m: [Errno 17] File exists: 'checkpoints'"
     ],
     "output_type": "error"
    }
   ],
   "source": [
    "import os\n",
    "os.mkdir('checkpoints')"
   ]
  },
  {
   "cell_type": "code",
   "execution_count": 415,
   "metadata": {},
   "outputs": [],
   "source": [
    "checkpoint = {'teachers_list': all_points,}\n",
    "torch.save(checkpoint,'checkpoints/teachers.pth')"
   ]
  },
  {
   "cell_type": "code",
   "execution_count": 19,
   "metadata": {},
   "outputs": [],
   "source": [
    "import torch\n",
    "from torch import nn, optim\n",
    "import torch.nn.functional as F\n",
    "\n",
    "class Teacher(torch.nn.Module):\n",
    "    def __init__(self,classess):\n",
    "        super(Teacher, self).__init__()\n",
    "        self.l1 = nn.Linear(784, 512)\n",
    "        self.l2 = nn.Linear(512,256)\n",
    "        self.l3 = nn.Linear(256,128)\n",
    "        self.l4 = nn.Linear(128,64)\n",
    "        self.l5 = nn.Linear(64, classess)\n",
    "        self.dropout = nn.Dropout(p = 0.2)\n",
    "\n",
    "    def forward(self,x):\n",
    "        # Flatten image\n",
    "        x = x.view(x.shape[0], -1)\n",
    "        \n",
    "        x = F.relu(self.l1(x))\n",
    "        x = F.relu(self.l2(x))\n",
    "        x = F.relu(self.l3(x))\n",
    "        x = self.l4(x)\n",
    "        x = F.log_softmax(self.l5(x), dim = 1)\n",
    "        return x\n",
    "        \n",
    "\n",
    "teachers = [None for _ in range(num_teachers)]\n",
    "for i in range(num_teachers):\n",
    "    teachers[i] = Teacher(10)\n",
    "\n",
    "checkpoint = torch.load('checkpoints/teachers.pth')\n",
    "teachers_list = checkpoint['teachers_list']\n",
    "for i in range(len(teachers_list)):\n",
    "    teachers[i].load_state_dict(teachers_list[i])"
   ]
  },
  {
   "cell_type": "markdown",
   "metadata": {},
   "source": [
    "# PATE Analysis"
   ]
  },
  {
   "cell_type": "code",
   "execution_count": 40,
   "metadata": {},
   "outputs": [],
   "source": [
    "teachers_preds = np.zeros((num_teachers,num_examples)).astype(int)\n",
    "truths = np.zeros((num_examples)).astype(int)"
   ]
  },
  {
   "cell_type": "code",
   "execution_count": 41,
   "metadata": {},
   "outputs": [
    {
     "data": {
      "text/plain": [
       "(10, 64)"
      ]
     },
     "execution_count": 41,
     "metadata": {},
     "output_type": "execute_result"
    }
   ],
   "source": [
    "teachers_preds.shape"
   ]
  },
  {
   "cell_type": "code",
   "execution_count": 42,
   "metadata": {},
   "outputs": [],
   "source": [
    "student_trn_loader = torch.utils.data.DataLoader(student_trn, batch_size = batch_sz)\n",
    "student_val_loader = torch.utils.data.DataLoader(student_val, batch_size = batch_sz)"
   ]
  },
  {
   "cell_type": "code",
   "execution_count": 43,
   "metadata": {},
   "outputs": [],
   "source": [
    "for i in range(num_teachers):\n",
    "    classifier = teachers[i]\n",
    "    crit = nn.NLLLoss()\n",
    "    \n",
    "    test_loss = 0\n",
    "    accuracy = 0\n",
    "    classifier.eval()\n",
    "    with torch.no_grad():\n",
    "        preds_l1 = 0\n",
    "        for x, y in student_trn_loader:\n",
    "            log_ps = classifier.forward(x)\n",
    "            batch_loss = crit(log_ps, y)\n",
    "            \n",
    "            test_loss += batch_loss.item()\n",
    "            \n",
    "            ps = torch.exp(log_ps)\n",
    "            top_p, top_class = ps.topk(1, dim = 1)\n",
    "            teachers_preds[i, preds_l1:(preds_l1+batch_sz)] = top_class.numpy().squeeze(1).astype(int)\n",
    "            truths[preds_l1:(preds_l1+batch_sz)] = y.numpy()\n",
    "            if(preds_l1 + batch_sz) >= num_examples:\n",
    "                break\n",
    "            preds_l1 += batch_sz\n",
    "            \n",
    "    classifier.train()"
   ]
  },
  {
   "cell_type": "code",
   "execution_count": 44,
   "metadata": {},
   "outputs": [],
   "source": [
    "def cal_max(teacher_preds, num_labels):\n",
    "    indices = []\n",
    "    for i in range(teacher_preds.shape[1]):\n",
    "        label_counts = np.bincount(teacher_preds[:,i], minlength=num_labels)\n",
    "        max_label = np.argmax(label_counts)\n",
    "        indices.append(max_label)\n",
    "    return np.array(indices)\n",
    "\n",
    "def noisy_max(teacher_preds, privacy_loss_lv, n_labels): \n",
    "    indices = []\n",
    "    for i in range(teacher_preds.shape[1]):\n",
    "        label_counts = np.bincount(teacher_preds[:,i], minlength=n_labels)\n",
    "        noisy_counts = label_counts + np.random.laplace(np.zeros(len(label_counts)), np.ones(len(label_counts))/privacy_loss_lv, len(label_counts))\n",
    "        indices.append(np.argmax(noisy_counts))\n",
    "    return np.array(indices)\n"
   ]
  },
  {
   "cell_type": "code",
   "execution_count": 72,
   "metadata": {},
   "outputs": [],
   "source": [
    "indices = cal_max(teachers_preds, n_labels)"
   ]
  },
  {
   "cell_type": "code",
   "execution_count": 73,
   "metadata": {},
   "outputs": [
    {
     "data": {
      "text/plain": [
       "array([5, 5, 4, 4, 4, 4, 4, 4, 4, 4, 4, 4, 4, 4, 4, 4, 4, 4, 4, 4, 4, 4,\n",
       "       4, 4, 4, 4, 4, 4, 4, 4, 2, 2, 2, 2, 2, 2, 2, 2, 2, 2, 2, 2, 2, 2,\n",
       "       2, 2, 2, 2, 2, 2, 0, 0, 0, 0, 0, 0, 0, 6, 0, 0, 0, 0, 0, 0])"
      ]
     },
     "execution_count": 73,
     "metadata": {},
     "output_type": "execute_result"
    }
   ],
   "source": [
    "indices"
   ]
  },
  {
   "cell_type": "code",
   "execution_count": 74,
   "metadata": {},
   "outputs": [
    {
     "name": "stdout",
     "output_type": "stream",
     "text": [
      "Warning: May not have used enough values of l. Increase 'moments' variable and run again.\n",
      "Data Independent Epsilon: 0.8444462732485114\n",
      "Data Dependent Epsilon: 0.8444462732485112\n"
     ]
    }
   ],
   "source": [
    "from syft.frameworks.torch.differential_privacy import pate\n",
    "\n",
    "data_dep_eps, data_ind_eps = pate.perform_analysis(teacher_preds=teachers_preds, indices=indices, noise_eps=0.01, delta=1e-5, moments=20)\n",
    "print(\"Data Independent Epsilon:\", data_ind_eps)\n",
    "print(\"Data Dependent Epsilon:\", data_dep_eps)"
   ]
  },
  {
   "cell_type": "code",
   "execution_count": null,
   "metadata": {},
   "outputs": [],
   "source": []
  },
  {
   "cell_type": "code",
   "execution_count": 71,
   "metadata": {},
   "outputs": [],
   "source": [
    "teachers_preds[:,0:2] = 5"
   ]
  },
  {
   "cell_type": "code",
   "execution_count": 53,
   "metadata": {},
   "outputs": [
    {
     "data": {
      "text/plain": [
       "(8.957641821656747, 8.957641821656743)"
      ]
     },
     "execution_count": 53,
     "metadata": {},
     "output_type": "execute_result"
    }
   ],
   "source": [
    "pate.perform_analysis(teacher_preds=teachers_preds, indices=indices, noise_eps=0.1, delta=1e-5, moments=20)"
   ]
  },
  {
   "cell_type": "code",
   "execution_count": null,
   "metadata": {},
   "outputs": [],
   "source": []
  },
  {
   "cell_type": "code",
   "execution_count": null,
   "metadata": {},
   "outputs": [],
   "source": []
  }
 ],
 "metadata": {
  "kernelspec": {
   "display_name": "Python 3",
   "language": "python",
   "name": "python3"
  },
  "language_info": {
   "codemirror_mode": {
    "name": "ipython",
    "version": 3
   },
   "file_extension": ".py",
   "mimetype": "text/x-python",
   "name": "python",
   "nbconvert_exporter": "python",
   "pygments_lexer": "ipython3",
   "version": "3.6.8"
  }
 },
 "nbformat": 4,
 "nbformat_minor": 2
}
